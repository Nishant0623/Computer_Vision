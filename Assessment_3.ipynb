{
  "nbformat": 4,
  "nbformat_minor": 0,
  "metadata": {
    "colab": {
      "provenance": [],
      "authorship_tag": "ABX9TyPBkuJHnPDavV6pTm+8Lgji",
      "include_colab_link": true
    },
    "kernelspec": {
      "name": "python3",
      "display_name": "Python 3"
    },
    "language_info": {
      "name": "python"
    }
  },
  "cells": [
    {
      "cell_type": "markdown",
      "metadata": {
        "id": "view-in-github",
        "colab_type": "text"
      },
      "source": [
        "<a href=\"https://colab.research.google.com/github/Nishant0623/Computer_Vision/blob/main/Assessment_3.ipynb\" target=\"_parent\"><img src=\"https://colab.research.google.com/assets/colab-badge.svg\" alt=\"Open In Colab\"/></a>"
      ]
    },
    {
      "cell_type": "code",
      "execution_count": 1,
      "metadata": {
        "colab": {
          "base_uri": "https://localhost:8080/"
        },
        "id": "4Kqnj5R60J2W",
        "outputId": "398433c3-3f9a-43a3-c3e9-e82174b45582"
      },
      "outputs": [
        {
          "output_type": "stream",
          "name": "stdout",
          "text": [
            "Requirement already satisfied: opencv-python in /usr/local/lib/python3.10/dist-packages (4.8.0.76)\n",
            "Requirement already satisfied: numpy>=1.21.2 in /usr/local/lib/python3.10/dist-packages (from opencv-python) (1.25.2)\n"
          ]
        }
      ],
      "source": [
        "pip install opencv-python"
      ]
    },
    {
      "cell_type": "code",
      "source": [
        "import pandas as pd\n",
        "import numpy as np\n",
        "import pandas as pd\n",
        "import math\n",
        "\n",
        "data = [\n",
        "    [35, 'high', 'yes', 'fair', 'yes'],\n",
        "    [33, 'medium', 'no', 'excellent', 'yes'],\n",
        "    [42, 'low', 'yes', 'fair', 'no'],\n",
        "    [28, 'low', 'no', 'fair', 'no'],\n",
        "    [37, 'high', 'yes', 'excellent', 'yes'],\n",
        "    [39, 'medium', 'no', 'fair', 'yes'],\n",
        "    [31, 'high', 'no', 'fair', 'yes'],\n",
        "    [36, 'medium', 'no', 'excellent', 'yes'],\n",
        "    [40, 'medium', 'yes', 'excellent', 'no'],\n",
        "    [29, 'high', 'no', 'fair', 'no'],\n",
        "    [34, 'low', 'yes', 'excellent', 'yes'],\n",
        "    [38, 'medium', 'yes', 'fair', 'yes'],\n",
        "    [32, 'low', 'no', 'excellent', 'no'],\n",
        "    [41, 'high', 'yes', 'fair', 'yes'],\n",
        "    [30, 'medium', 'yes', 'excellent', 'yes']\n",
        "]\n",
        "\n",
        "df = pd.DataFrame(data, columns=['age', 'income', 'student', 'credit_rating', 'buys_computer'])\n",
        "X = df.drop(columns=['buys_computer'])\n",
        "y = df['buys_computer']"
      ],
      "metadata": {
        "id": "1UtrJSjl0Tuj"
      },
      "execution_count": 2,
      "outputs": []
    },
    {
      "cell_type": "code",
      "source": [
        "class DecisionTreeNode:\n",
        "    def __init__(self, feature=None, value=None, left=None, right=None, target_class=None):\n",
        "        self.feature = feature\n",
        "        self.value = value\n",
        "        self.left = left\n",
        "        self.right = right\n",
        "        self.target_class = target_class"
      ],
      "metadata": {
        "id": "bcuxU1CS01sa"
      },
      "execution_count": 3,
      "outputs": []
    },
    {
      "cell_type": "code",
      "source": [
        "def calculate_entropy(y):\n",
        "    class_counts = y.value_counts()\n",
        "    entropy = 0\n",
        "    for count in class_counts:\n",
        "        probability = count / len(y)\n",
        "        entropy -= probability * math.log2(probability)\n",
        "    return entropy\n",
        "\n",
        "\n",
        "def calculate_information_gain(X, y, feature, split_value):\n",
        "\n",
        "    total_entropy = calculate_entropy(y)\n",
        "    left_indices = X[feature] <= split_value\n",
        "    right_indices = X[feature] > split_value\n",
        "    left_entropy = calculate_entropy(y[left_indices])\n",
        "    right_entropy = calculate_entropy(y[right_indices])\n",
        "\n",
        "    left_weight = sum(left_indices) / len(y)\n",
        "    right_weight = sum(right_indices) / len(y)\n",
        "    information_gain = total_entropy - (left_weight * left_entropy + right_weight * right_entropy)\n",
        "\n",
        "    return information_gain\n",
        "\n",
        "def build_decision_tree(X, y):\n",
        "    if len(set(y)) == 1:\n",
        "        return DecisionTreeNode(target_class=y.iloc[0])\n",
        "\n",
        "    if len(X.columns) == 0:  # If there are no features left to split on\n",
        "        return DecisionTreeNode(target_class=y.mode()[0])\n",
        "\n",
        "    best_information_gain = 0\n",
        "    best_feature = None\n",
        "    best_split_value = None\n",
        "\n",
        "    for feature in X.columns:\n",
        "        unique_values = X[feature].unique()\n",
        "        for value in unique_values:\n",
        "            information_gain = calculate_information_gain(X, y, feature, value)\n",
        "            if information_gain > best_information_gain:\n",
        "                best_information_gain = information_gain\n",
        "                best_feature = feature\n",
        "                best_split_value = value\n",
        "\n",
        "    left_indices = X[best_feature] <= best_split_value\n",
        "    right_indices = X[best_feature] > best_split_value\n",
        "    left_subtree = build_decision_tree(X[left_indices], y[left_indices])\n",
        "    right_subtree = build_decision_tree(X[right_indices], y[right_indices])\n",
        "    return DecisionTreeNode(feature=best_feature, value=best_split_value, left=left_subtree, right=right_subtree)\n"
      ],
      "metadata": {
        "id": "gvd5Ya1I1AdI"
      },
      "execution_count": 4,
      "outputs": []
    },
    {
      "cell_type": "code",
      "source": [
        "decision_tree = build_decision_tree(X, y)\n",
        "\n",
        "def predict(tree, sample):\n",
        "    if tree.target_class is not None:\n",
        "        return tree.target_class\n",
        "    feature_index = X.columns.get_loc(tree.feature)\n",
        "    if sample[feature_index] <= tree.value:\n",
        "        return predict(tree.left, sample)\n",
        "    else:\n",
        "        return predict(tree.right, sample)"
      ],
      "metadata": {
        "id": "sqpYgmXx1Sy_"
      },
      "execution_count": 5,
      "outputs": []
    },
    {
      "cell_type": "code",
      "source": [
        "data2 = [\n",
        "    [22, 'low', 'yes', 'excellent'],\n",
        "    [32, 'high', 'no', 'fair'],\n",
        "    [41, 'medium', 'yes', 'fair'],\n",
        "    [51, 'low', 'no', 'fair'],\n",
        "    [28, 'high', 'yes', 'excellent'],\n",
        "    [36, 'medium', 'no', 'fair'],\n",
        "    [46, 'low', 'yes', 'excellent'],\n",
        "    [56, 'high', 'no', 'fair'],\n",
        "    [33, 'high', 'no', 'fair'],\n",
        "    [33, 'high', 'no', 'excellent'],\n",
        "    [34, 'medium', 'no', 'fair'],\n",
        "    [42, 'low', 'no', 'fair'],\n",
        "    [42, 'low', 'yes', 'fair'],\n",
        "    [42, 'low', 'yes', 'excellent'],\n",
        "    [34, 'medium', 'yes', 'excellent'],\n",
        "    [32, 'high', 'no', 'fair'],\n",
        "    [32, 'medium', 'yes', 'fair'],\n",
        "    [34, 'medium', 'yes', 'excellent'],\n",
        "    [34, 'high', 'no', 'excellent'],\n",
        "    [41, 'medium', 'no', 'fair'],\n",
        "    [41, 'high', 'yes', 'fair'],\n",
        "    [34, 'medium', 'no', 'excellent']\n",
        "]\n",
        "\n",
        "for sample in data2:\n",
        "    prediction = predict(decision_tree, sample)\n",
        "    print(f\"Sample : {sample}, Predicted : {prediction}\")\n",
        "\n"
      ],
      "metadata": {
        "colab": {
          "base_uri": "https://localhost:8080/"
        },
        "id": "Gs0j13-91XyX",
        "outputId": "28050cfa-9dca-40b8-bc26-12a7b59803d7"
      },
      "execution_count": 6,
      "outputs": [
        {
          "output_type": "stream",
          "name": "stdout",
          "text": [
            "Sample : [22, 'low', 'yes', 'excellent'], Predicted : no\n",
            "Sample : [32, 'high', 'no', 'fair'], Predicted : no\n",
            "Sample : [41, 'medium', 'yes', 'fair'], Predicted : no\n",
            "Sample : [51, 'low', 'no', 'fair'], Predicted : no\n",
            "Sample : [28, 'high', 'yes', 'excellent'], Predicted : no\n",
            "Sample : [36, 'medium', 'no', 'fair'], Predicted : yes\n",
            "Sample : [46, 'low', 'yes', 'excellent'], Predicted : no\n",
            "Sample : [56, 'high', 'no', 'fair'], Predicted : yes\n",
            "Sample : [33, 'high', 'no', 'fair'], Predicted : yes\n",
            "Sample : [33, 'high', 'no', 'excellent'], Predicted : yes\n",
            "Sample : [34, 'medium', 'no', 'fair'], Predicted : yes\n",
            "Sample : [42, 'low', 'no', 'fair'], Predicted : no\n",
            "Sample : [42, 'low', 'yes', 'fair'], Predicted : no\n",
            "Sample : [42, 'low', 'yes', 'excellent'], Predicted : no\n",
            "Sample : [34, 'medium', 'yes', 'excellent'], Predicted : yes\n",
            "Sample : [32, 'high', 'no', 'fair'], Predicted : no\n",
            "Sample : [32, 'medium', 'yes', 'fair'], Predicted : no\n",
            "Sample : [34, 'medium', 'yes', 'excellent'], Predicted : yes\n",
            "Sample : [34, 'high', 'no', 'excellent'], Predicted : yes\n",
            "Sample : [41, 'medium', 'no', 'fair'], Predicted : no\n",
            "Sample : [41, 'high', 'yes', 'fair'], Predicted : yes\n",
            "Sample : [34, 'medium', 'no', 'excellent'], Predicted : yes\n"
          ]
        }
      ]
    }
  ]
}